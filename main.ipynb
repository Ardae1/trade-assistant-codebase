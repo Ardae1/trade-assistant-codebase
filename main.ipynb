{
 "cells": [
  {
   "cell_type": "code",
   "execution_count": 1,
   "metadata": {},
   "outputs": [],
   "source": [
    "import stockstats as st\n",
    "from excel_db_main import ExcelParserClass\n",
    "from ema_conditional_calculations import EMACalculationClass\n",
    "from config import Config\n",
    "from Binance_API_main import BinanceDataCollector\n",
    "from telegram_Handler import telegramHandler\n",
    "from point_calculation_helper import calculationHelper\n",
    "from market_shift import MarketShiftAnalyzer\n"
   ]
  },
  {
   "cell_type": "code",
   "execution_count": 2,
   "metadata": {},
   "outputs": [],
   "source": [
    "\n",
    "def indicator_data_load(dblist):\n",
    "    dblist = {name: st.StockDataFrame(value) for name, value in dblist.items()}\n",
    "    ema_list=[\"close_5_ema\",\"close_21_ema\",\"close_60_ema\",\"close_100_ema\",\"close_200_ema\"]\n",
    "    rsi_list=[\"rsi_14\",\"rsi_21\"]\n",
    "    rsi_sma_list=[\"rsi_14_sma\",\"rsi_21_sma\"]\n",
    "    bollinger_list=['boll_20']\n",
    "    for name in dblist.keys():\n",
    "        [dblist[name][str(i)] for i in ema_list] #ema'ları ekler\n",
    "        [dblist[name][str(i)] for i in rsi_list] #rsi ekler\n",
    "        [dblist[name][str(i)] for i in rsi_sma_list] #rsi sma ekler\n",
    "        [dblist[name][str(i)] for i in bollinger_list] #bollinger ekler\n",
    "  \n",
    "    return dblist\n",
    "\n",
    "\n",
    "def filtered_db_prep(dblist):\n",
    "     for name in dblist.keys():\n",
    "        # Check if the DataFrame has more than 400 rows\n",
    "        if len(dblist[name]) > 400:\n",
    "            # Remove the first 400 rows\n",
    "            dblist[name] = dblist[name].iloc[400:]\n",
    "\n",
    "     return dblist\n",
    "\n",
    "\n",
    "\n",
    "def main_engine(parity):\n",
    "    config_data = Config()\n",
    "    binance_data = BinanceDataCollector(parity,config_data)\n",
    "    unique_data = binance_data.unique_data_collector()\n",
    "    loaded_indicator_data = indicator_data_load(unique_data)\n",
    "    filtered_data = filtered_db_prep(loaded_indicator_data)\n",
    "    mrkt = MarketShiftAnalyzer(filtered_data,parity)\n",
    "    exceltry= ExcelParserClass(parity,config_data,binance_data)\n",
    "    emaCalculation = EMACalculationClass(parity,filtered_data, exceltry)\n",
    "    tlg_helper = telegramHandler(config_data,exceltry)\n",
    "    calc_helper = calculationHelper(unique_data,parity)\n",
    "    coin_name=parity+\"USDT\"\n",
    "    current_price=filtered_data[f'{parity}USDT-15m'].iloc[-1][\"close\"]\n",
    "\n",
    "    # Initialize the numeric, string and intermediate results dictionaries\n",
    "    results_num = {}\n",
    "    results_str = {'coin_name': coin_name, 'current_price': current_price}\n",
    "    intermediate_results = {}\n",
    "\n",
    "    volume_anaylzer=exceltry.volume_analyzer(unique_data)[1]\n",
    "    results_num['volume_point'] = calc_helper.volume_pointer(volume_anaylzer)\n",
    "    intermediate_results['volume'] = volume_anaylzer\n",
    "\n",
    "    count_candles_s = emaCalculation.count_candles_s(14)\n",
    "    results_num['candle_count_r_pointer'] = calc_helper.count_candle_s_pointer(count_candles_s)\n",
    "    intermediate_results['count_candles_s'] = count_candles_s\n",
    "\n",
    "    market_shift = mrkt.find_market_shift_sensitive()\n",
    "    results_num['market_shift_pointer'] = calc_helper.market_shift_pointer(market_shift)\n",
    "    intermediate_results['market_shift'] = market_shift\n",
    "\n",
    "    price_monitor, daily_status,daily_range_h,daily_range_l,price_range_h,price_range_l = exceltry.price_monitor(filtered_data)\n",
    "    results_num['price_monitor_pointer'] = calc_helper.price_monitor_pointer(price_monitor)\n",
    "    intermediate_results['price_monitor'] = price_monitor\n",
    "    intermediate_results['daily_status'] =  daily_status\n",
    "    intermediate_results['daily_range_h'] =  daily_range_h\n",
    "    intermediate_results['daily_range_l'] =  daily_range_l\n",
    "    intermediate_results['price_range_h'] =  price_range_h\n",
    "    intermediate_results['price_range_l'] =  price_range_l\n",
    "\n",
    "    condition = emaCalculation.find_condition()\n",
    "    results_num['condition_pointer'] = calc_helper.find_condition_pointer(condition)\n",
    "    intermediate_results['condition'] = condition\n",
    "\n",
    "    support_calculation = emaCalculation.support_finder(condition)\n",
    "    results_num['support_calculation_result'] = calc_helper.support_finder_calculation(support_calculation)\n",
    "    intermediate_results['support_calculation'] = support_calculation\n",
    "\n",
    "    optimum_trade_entry0,optimum_trade_entry1 = calc_helper.calculate_optimum_trade_entry_buy(filtered_data)\n",
    "    results_num['optimum_trade_entry'] = optimum_trade_entry1\n",
    "    intermediate_results['optimum_trade_entry_db'] = optimum_trade_entry0\n",
    "\n",
    "    intermediate_results['key_levels'] = emaCalculation.calculate_key_levels(unique_data)\n",
    "\n",
    "    # Compute the total sum\n",
    "    results_num['total_sum'] = sum(results_num.values())\n",
    "\n",
    "    if results_num['total_sum'] > 0:\n",
    "        # Merge the results dictionaries\n",
    "        all_results = {**results_str, **results_num, **intermediate_results}\n",
    "        message_temp=tlg_helper.telegram_message_prep(all_results)\n",
    "        send_message=tlg_helper.send_results_telegram(message_temp)\n",
    "\n",
    "    # Return the combined results\n",
    "    return {**results_str, **results_num, **intermediate_results}\n",
    "\n",
    "\n"
   ]
  },
  {
   "cell_type": "code",
   "execution_count": 3,
   "metadata": {},
   "outputs": [
    {
     "name": "stdout",
     "output_type": "stream",
     "text": [
      "2024-04-13 22:02:55,928 - line 24 - INFO - reading config file..\n",
      "2024-04-13 22:02:56,354 - line 29 - INFO - Binance API Connection succesful..\n",
      "2024-04-13 22:03:01,570 - line 159 - INFO - Data successfully collected from Binance Client for coin: YGG\n",
      "2024-04-13 22:03:01,630 - line 11 - INFO - Market shift Instance initialized..\n",
      "2024-04-13 22:03:01,944 - line 18 - INFO - Excel Parser Instance initialized..\n",
      "2024-04-13 22:03:03,010 - line 114 - INFO - Volume data was succesfully retrieved for coin: YGG\n"
     ]
    },
    {
     "name": "stderr",
     "output_type": "stream",
     "text": [
      "INFO:logs:Volume data was succesfully retrieved for coin: YGG\n"
     ]
    },
    {
     "name": "stdout",
     "output_type": "stream",
     "text": [
      "2024-04-13 22:03:12,286 - line 73 - INFO - Sensitive Market shift analysis successfully completed for timeframe: YGGUSDT-15m\n"
     ]
    },
    {
     "name": "stderr",
     "output_type": "stream",
     "text": [
      "INFO:logs:Sensitive Market shift analysis successfully completed for timeframe: YGGUSDT-15m\n"
     ]
    },
    {
     "name": "stdout",
     "output_type": "stream",
     "text": [
      "2024-04-13 22:03:12,364 - line 73 - INFO - Sensitive Market shift analysis successfully completed for timeframe: YGGUSDT-1h\n"
     ]
    },
    {
     "name": "stderr",
     "output_type": "stream",
     "text": [
      "INFO:logs:Sensitive Market shift analysis successfully completed for timeframe: YGGUSDT-1h\n"
     ]
    },
    {
     "name": "stdout",
     "output_type": "stream",
     "text": [
      "2024-04-13 22:03:12,440 - line 73 - INFO - Sensitive Market shift analysis successfully completed for timeframe: YGGUSDT-4h\n"
     ]
    },
    {
     "name": "stderr",
     "output_type": "stream",
     "text": [
      "INFO:logs:Sensitive Market shift analysis successfully completed for timeframe: YGGUSDT-4h\n"
     ]
    },
    {
     "name": "stdout",
     "output_type": "stream",
     "text": [
      "2024-04-13 22:03:12,517 - line 73 - INFO - Sensitive Market shift analysis successfully completed for timeframe: YGGUSDT-1d\n"
     ]
    },
    {
     "name": "stderr",
     "output_type": "stream",
     "text": [
      "INFO:logs:Sensitive Market shift analysis successfully completed for timeframe: YGGUSDT-1d\n"
     ]
    },
    {
     "name": "stdout",
     "output_type": "stream",
     "text": [
      "2024-04-13 22:03:12,552 - line 73 - INFO - Sensitive Market shift analysis successfully completed for timeframe: YGGUSDT-1w\n"
     ]
    },
    {
     "name": "stderr",
     "output_type": "stream",
     "text": [
      "INFO:logs:Sensitive Market shift analysis successfully completed for timeframe: YGGUSDT-1w\n"
     ]
    },
    {
     "name": "stdout",
     "output_type": "stream",
     "text": [
      "2024-04-13 22:03:12,630 - line 73 - INFO - Sensitive Market shift analysis successfully completed for timeframe: YGGBTC-15m\n"
     ]
    },
    {
     "name": "stderr",
     "output_type": "stream",
     "text": [
      "INFO:logs:Sensitive Market shift analysis successfully completed for timeframe: YGGBTC-15m\n"
     ]
    },
    {
     "name": "stdout",
     "output_type": "stream",
     "text": [
      "2024-04-13 22:03:12,707 - line 73 - INFO - Sensitive Market shift analysis successfully completed for timeframe: YGGBTC-1h\n"
     ]
    },
    {
     "name": "stderr",
     "output_type": "stream",
     "text": [
      "INFO:logs:Sensitive Market shift analysis successfully completed for timeframe: YGGBTC-1h\n"
     ]
    },
    {
     "name": "stdout",
     "output_type": "stream",
     "text": [
      "2024-04-13 22:03:12,782 - line 73 - INFO - Sensitive Market shift analysis successfully completed for timeframe: YGGBTC-4h\n"
     ]
    },
    {
     "name": "stderr",
     "output_type": "stream",
     "text": [
      "INFO:logs:Sensitive Market shift analysis successfully completed for timeframe: YGGBTC-4h\n"
     ]
    },
    {
     "name": "stdout",
     "output_type": "stream",
     "text": [
      "2024-04-13 22:03:12,859 - line 73 - INFO - Sensitive Market shift analysis successfully completed for timeframe: YGGBTC-1d\n"
     ]
    },
    {
     "name": "stderr",
     "output_type": "stream",
     "text": [
      "INFO:logs:Sensitive Market shift analysis successfully completed for timeframe: YGGBTC-1d\n"
     ]
    },
    {
     "name": "stdout",
     "output_type": "stream",
     "text": [
      "2024-04-13 22:03:12,895 - line 73 - INFO - Sensitive Market shift analysis successfully completed for timeframe: YGGBTC-1w\n"
     ]
    },
    {
     "name": "stderr",
     "output_type": "stream",
     "text": [
      "INFO:logs:Sensitive Market shift analysis successfully completed for timeframe: YGGBTC-1w\n"
     ]
    },
    {
     "name": "stdout",
     "output_type": "stream",
     "text": [
      "2024-04-13 22:03:12,997 - line 463 - INFO - Daily range calculation were succesfully completed..\n"
     ]
    },
    {
     "name": "stderr",
     "output_type": "stream",
     "text": [
      "INFO:logs:Daily range calculation were succesfully completed..\n"
     ]
    },
    {
     "name": "stdout",
     "output_type": "stream",
     "text": [
      "2024-04-13 22:03:13,042 - line 188 - INFO - Price Monitor was succesfully completed..\n"
     ]
    },
    {
     "name": "stderr",
     "output_type": "stream",
     "text": [
      "INFO:logs:Price Monitor was succesfully completed..\n"
     ]
    },
    {
     "name": "stdout",
     "output_type": "stream",
     "text": [
      "2024-04-13 22:03:13,925 - line 114 - INFO - Volume data was succesfully retrieved for coin: YGG\n"
     ]
    },
    {
     "name": "stderr",
     "output_type": "stream",
     "text": [
      "INFO:logs:Volume data was succesfully retrieved for coin: YGG\n"
     ]
    },
    {
     "name": "stdout",
     "output_type": "stream",
     "text": [
      "2024-04-13 22:03:14,338 - line 114 - INFO - Volume data was succesfully retrieved for coin: YGG\n"
     ]
    },
    {
     "name": "stderr",
     "output_type": "stream",
     "text": [
      "INFO:logs:Volume data was succesfully retrieved for coin: YGG\n"
     ]
    },
    {
     "name": "stdout",
     "output_type": "stream",
     "text": [
      "2024-04-13 22:03:15,156 - line 240 - INFO - PDF documentation of analysis was succesfully completed..\n"
     ]
    },
    {
     "name": "stderr",
     "output_type": "stream",
     "text": [
      "INFO:logs:PDF documentation of analysis was succesfully completed..\n"
     ]
    },
    {
     "name": "stdout",
     "output_type": "stream",
     "text": [
      "2024-04-13 22:03:19,868 - line 289 - INFO - Analysis result has been sent to telegram bot channel..\n"
     ]
    },
    {
     "name": "stderr",
     "output_type": "stream",
     "text": [
      "INFO:logs:Analysis result has been sent to telegram bot channel..\n"
     ]
    }
   ],
   "source": [
    "bnt=main_engine('YGG')"
   ]
  },
  {
   "cell_type": "code",
   "execution_count": null,
   "metadata": {},
   "outputs": [],
   "source": []
  }
 ],
 "metadata": {
  "kernelspec": {
   "display_name": "base",
   "language": "python",
   "name": "python3"
  },
  "language_info": {
   "codemirror_mode": {
    "name": "ipython",
    "version": 3
   },
   "file_extension": ".py",
   "mimetype": "text/x-python",
   "name": "python",
   "nbconvert_exporter": "python",
   "pygments_lexer": "ipython3",
   "version": "3.9.12"
  },
  "orig_nbformat": 4
 },
 "nbformat": 4,
 "nbformat_minor": 2
}
